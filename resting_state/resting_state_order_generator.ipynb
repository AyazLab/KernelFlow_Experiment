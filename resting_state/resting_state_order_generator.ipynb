{
 "cells": [
  {
   "cell_type": "code",
   "execution_count": 25,
   "metadata": {},
   "outputs": [],
   "source": [
    "import os\n",
    "import csv\n",
    "import time\n",
    "import random\n",
    "\n",
    "def resting_state_csv(save_dir):\n",
    "    \"\"\"\n",
    "    Save resting state order in a CSV file\n",
    "    \"\"\"\n",
    "\n",
    "    rest_conds = [\"eyes open\", \"eyes closed\"]\n",
    "    random.shuffle(rest_conds)\n",
    "\n",
    "    os.chdir(save_dir)\n",
    "    filename = \"resting_state_task_order-\" + str(time.time()).replace(\".\", \"\") + \".csv\"\n",
    "    print(\"CSV filename: \", filename)\n",
    "\n",
    "    with open(filename, mode=\"w\", newline='') as csv_file:\n",
    "        csv_writer = csv.writer(csv_file, delimiter=',')  \n",
    "        csv_writer.writerow([\"task_order\"])  \n",
    "        \n",
    "        for rest_cond in rest_conds:\n",
    "            csv_writer.writerow([rest_cond])  "
   ]
  }
 ],
 "metadata": {
  "interpreter": {
   "hash": "489ee3a99ad92b8c68b70a8fb72ee1af00ad117b9a531569513919a739da67fd"
  },
  "kernelspec": {
   "display_name": "Python 3.9.0 64-bit",
   "language": "python",
   "name": "python3"
  },
  "language_info": {
   "codemirror_mode": {
    "name": "ipython",
    "version": 3
   },
   "file_extension": ".py",
   "mimetype": "text/x-python",
   "name": "python",
   "nbconvert_exporter": "python",
   "pygments_lexer": "ipython3",
   "version": "3.9.0"
  },
  "orig_nbformat": 4
 },
 "nbformat": 4,
 "nbformat_minor": 2
}
