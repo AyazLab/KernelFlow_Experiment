{
 "cells": [
  {
   "cell_type": "code",
   "execution_count": null,
   "metadata": {},
   "outputs": [],
   "source": [
    "import os\n",
    "import csv\n",
    "\n",
    "\n",
    "def resting_state_csv(save_dir):\n",
    "    \"\"\"\n",
    "    Save resting state order in a CSV file\n",
    "    \"\"\"\n",
    "\n",
    "    rest_conds = [\"eyes_open\", \"eyes_closed\"]\n",
    "\n",
    "    os.chdir(save_dir)\n",
    "    filename = \"ZM_stims-\" + str(time.time()).replace(\".\", \"\") + \".csv\"\n",
    "    print(\"CSV filename: \", filename)\n",
    "\n",
    "    with open(filename, mode=\"w\", newline='') as csv_file:\n",
    "        csv_writer = csv.writer(csv_file, delimiter=',')  \n",
    "        csv_writer.writerow([\"image_stim\", \"match\"])  \n",
    "        \n",
    "        for ZM_image in zero_move_list:\n",
    "            zero_move_image_str = os.path.join(\"zero_move_stimuli\", ZM_image)\n",
    "            csv_writer.writerow([zero_move_image_str, 1])  "
   ]
  },
  {
   "cell_type": "code",
   "execution_count": null,
   "metadata": {},
   "outputs": [],
   "source": [
    "save_dir = r\"C:\\Users\\zackg\\OneDrive\\Ayaz Lab\\KernelFlow_PsychoPy\\resting_state\\resting_state_conditions\""
   ]
  }
 ],
 "metadata": {
  "interpreter": {
   "hash": "489ee3a99ad92b8c68b70a8fb72ee1af00ad117b9a531569513919a739da67fd"
  },
  "kernelspec": {
   "display_name": "Python 3.9.0 64-bit",
   "language": "python",
   "name": "python3"
  },
  "language_info": {
   "name": "python",
   "version": "3.9.0"
  },
  "orig_nbformat": 4
 },
 "nbformat": 4,
 "nbformat_minor": 2
}
