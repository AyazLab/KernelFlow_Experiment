{
 "cells": [
  {
   "cell_type": "code",
   "execution_count": 5,
   "metadata": {},
   "outputs": [],
   "source": [
    "import os\n",
    "import csv\n",
    "import time\n",
    "import math\n",
    "import numpy as np\n",
    "\n",
    "def ZM_stims(num_rows, zero_move_dir):\n",
    "    \"\"\"\n",
    "    Randomize the list of zero-move images\n",
    "    \"\"\"\n",
    "\n",
    "    os.chdir(zero_move_dir)\n",
    "    zero_move_list = os.listdir(os.getcwd())\n",
    "    np.random.shuffle(zero_move_list)\n",
    "\n",
    "    return zero_move_list[:num_rows]\n",
    "\n",
    "def ZM_stim_csv(num_rows, save_dir, zero_move_dir):\n",
    "    \"\"\"\n",
    "    Save zero-move image vectors in a CSV file\n",
    "    \"\"\"\n",
    "\n",
    "    zero_move_list = ZM_stims(num_rows, zero_move_dir)\n",
    "\n",
    "    os.chdir(save_dir)\n",
    "    filename = \"ZM_stims-\" + str(time.time()).replace(\".\", \"\") + \".csv\"\n",
    "    print(\"CSV filename: \", filename)\n",
    "\n",
    "    with open(filename, mode=\"w\", newline='') as csv_file:\n",
    "        csv_writer = csv.writer(csv_file, delimiter=',')  \n",
    "        csv_writer.writerow([\"image_stim\", \"match\"])  \n",
    "        \n",
    "        for ZM_image in zero_move_list:\n",
    "            zero_move_image_str = os.path.join(\"zero_move_stimuli\", ZM_image)\n",
    "            csv_writer.writerow([zero_move_image_str, 1])  \n",
    "\n",
    "def MM_stims(num_rows, two_move_dir, not_two_move_dir):\n",
    "    \"\"\"\n",
    "    Create a randomized list of 50/50 multi-move (two move and not two move) images\n",
    "    \"\"\"\n",
    "\n",
    "    # two move\n",
    "    os.chdir(two_move_dir)\n",
    "    two_move_image_list = os.listdir(os.getcwd())\n",
    "    np.random.shuffle(two_move_image_list)\n",
    "    two_move_image_list = two_move_image_list[:math.floor(num_rows/2)]\n",
    "\n",
    "    # not two move\n",
    "    os.chdir(not_two_move_dir)\n",
    "    not_two_move_image_list = os.listdir(os.getcwd())\n",
    "    np.random.shuffle(not_two_move_image_list)\n",
    "    not_two_move_image_list = not_two_move_image_list[:math.ceil(num_rows/2)]\n",
    "    \n",
    "    multi_move_image_list = two_move_image_list + not_two_move_image_list\n",
    "    np.random.shuffle(multi_move_image_list)\n",
    "\n",
    "    return multi_move_image_list\n",
    "\n",
    "def MM_stim_csv(num_rows, save_dir, two_move_dir, not_two_move_dir):\n",
    "    \"\"\"\n",
    "    Save multi-move image  vectors in a CSV file\n",
    "    \"\"\"\n",
    "\n",
    "    multi_move_image_list = MM_stims(num_rows, two_move_dir, not_two_move_dir)\n",
    "\n",
    "    os.chdir(save_dir)\n",
    "    filename = \"MM_stims-\" + str(time.time()).replace(\".\", \"\") + \".csv\"\n",
    "    print(\"CSV filename: \", filename)\n",
    "\n",
    "    with open(filename, mode=\"w\", newline='') as csv_file:\n",
    "        csv_writer = csv.writer(csv_file, delimiter=',')  \n",
    "        csv_writer.writerow([\"image_stim\", \"match\"])  \n",
    "        \n",
    "        for multi_move_image in multi_move_image_list:\n",
    "            if \"not\" in multi_move_image:\n",
    "                multi_move_image_str = os.path.join(\"multi_move_stimuli\", \"stim_not_two_move\", multi_move_image)\n",
    "                csv_writer.writerow([multi_move_image_str, 0]) \n",
    "            else:\n",
    "                multi_move_image_str = os.path.join(\"multi_move_stimuli\", \"stim_two_move\", multi_move_image)\n",
    "                csv_writer.writerow([multi_move_image_str, 1]) "
   ]
  },
  {
   "cell_type": "code",
   "execution_count": 8,
   "metadata": {},
   "outputs": [
    {
     "name": "stdout",
     "output_type": "stream",
     "text": [
      "CSV filename:  ZM_stims-16462270163021884.csv\n",
      "CSV filename:  MM_stims-16462270164042006.csv\n",
      "CSV filename:  ZM_stims-16462270164051914.csv\n",
      "CSV filename:  MM_stims-1646227016516275.csv\n",
      "CSV filename:  ZM_stims-16462270165171893.csv\n",
      "CSV filename:  MM_stims-16462270166282215.csv\n"
     ]
    }
   ],
   "source": [
    "# TODO: update the stim column to include file path to image\n",
    "\n",
    "save_dir = r\"C:\\Users\\zackg\\OneDrive\\Ayaz Lab\\KernelFlow_PsychoPy\\tower_of_london\\TOL_conditions\"\n",
    "two_move_dir = r\"C:\\Users\\zackg\\OneDrive\\Ayaz Lab\\KernelFlow_PsychoPy\\tower_of_london\\multi_move_stimuli\\stim_two_move\"\n",
    "not_two_move_dir = r\"C:\\Users\\zackg\\OneDrive\\Ayaz Lab\\KernelFlow_PsychoPy\\tower_of_london\\multi_move_stimuli\\stim_not_two_move\"\n",
    "zero_move_dir = r\"C:\\Users\\zackg\\OneDrive\\Ayaz Lab\\KernelFlow_PsychoPy\\tower_of_london\\zero_move_stimuli\"\n",
    "\n",
    "num_rows = 6\n",
    "\n",
    "for i in range(3):\n",
    "    ZM_stim_csv(num_rows=num_rows, save_dir=save_dir, zero_move_dir=zero_move_dir)\n",
    "    time.sleep(0.1)\n",
    "    MM_stim_csv(num_rows=num_rows, save_dir=save_dir, two_move_dir=two_move_dir, not_two_move_dir=not_two_move_dir)"
   ]
  },
  {
   "cell_type": "code",
   "execution_count": null,
   "metadata": {},
   "outputs": [],
   "source": []
  }
 ],
 "metadata": {
  "interpreter": {
   "hash": "9efce205f64ad363cd9f14615485aca38ee4ef0915866e318aa83c8d0c93f6fc"
  },
  "kernelspec": {
   "display_name": "Python 3.10.2 64-bit",
   "language": "python",
   "name": "python3"
  },
  "language_info": {
   "codemirror_mode": {
    "name": "ipython",
    "version": 3
   },
   "file_extension": ".py",
   "mimetype": "text/x-python",
   "name": "python",
   "nbconvert_exporter": "python",
   "pygments_lexer": "ipython3",
   "version": "3.9.0"
  },
  "orig_nbformat": 4
 },
 "nbformat": 4,
 "nbformat_minor": 2
}
