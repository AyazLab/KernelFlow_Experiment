{
 "cells": [
  {
   "cell_type": "code",
   "execution_count": 9,
   "metadata": {},
   "outputs": [],
   "source": [
    "import os\n",
    "import csv\n",
    "import time\n",
    "\n",
    "def TOL_task_order_generator_csv(save_dir):\n",
    "    \"\"\"\n",
    "    Save TOL task order to a CSV file\n",
    "    \"\"\"\n",
    "\n",
    "    task_list = [\"MM1\", \"ZM1\", \"MM2\", \"ZM2\", \"MM3\", \"ZM3\"]\n",
    "\n",
    "    os.chdir(save_dir)\n",
    "    filename = \"TOL_task_order-\" + str(time.time()).replace(\".\", \"\") + \".csv\"\n",
    "    print(\"CSV filename: \", filename)\n",
    "\n",
    "    with open(filename, mode=\"w\", newline='') as csv_file:\n",
    "        csv_writer = csv.writer(csv_file, delimiter=',')  \n",
    "        csv_writer.writerow([\"task_order\"])  \n",
    "        \n",
    "        for task in task_list:\n",
    "            csv_writer.writerow([task])   "
   ]
  },
  {
   "cell_type": "code",
   "execution_count": 10,
   "metadata": {},
   "outputs": [
    {
     "name": "stdout",
     "output_type": "stream",
     "text": [
      "CSV filename:  TOL_task_order-16461825694900932.csv\n"
     ]
    }
   ],
   "source": [
    "save_dir = r\"C:\\Users\\zackg\\OneDrive\\Ayaz Lab\\KernelFlow_PsychoPy\\tower_of_london\"\n",
    "\n",
    "TOL_task_order_csv(save_dir=save_dir)"
   ]
  },
  {
   "cell_type": "code",
   "execution_count": null,
   "metadata": {},
   "outputs": [],
   "source": []
  }
 ],
 "metadata": {
  "interpreter": {
   "hash": "9efce205f64ad363cd9f14615485aca38ee4ef0915866e318aa83c8d0c93f6fc"
  },
  "kernelspec": {
   "display_name": "Python 3.10.2 64-bit",
   "language": "python",
   "name": "python3"
  },
  "language_info": {
   "codemirror_mode": {
    "name": "ipython",
    "version": 3
   },
   "file_extension": ".py",
   "mimetype": "text/x-python",
   "name": "python",
   "nbconvert_exporter": "python",
   "pygments_lexer": "ipython3",
   "version": "3.9.0"
  },
  "orig_nbformat": 4
 },
 "nbformat": 4,
 "nbformat_minor": 2
}
