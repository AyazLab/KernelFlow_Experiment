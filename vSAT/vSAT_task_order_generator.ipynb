{
 "cells": [
  {
   "cell_type": "code",
   "execution_count": 1,
   "metadata": {},
   "outputs": [],
   "source": [
    "import os\n",
    "import csv\n",
    "import time\n",
    "import math\n",
    "import numpy as np\n",
    "\n",
    "def vSAT_stims(num_rows):\n",
    "    \"\"\"\n",
    "    Random lists of vSAT conditions\n",
    "    \"\"\"\n",
    "\n",
    "    stim_times = [0.017, 0.029, 0.050]\n",
    "    inter_stim_times = [1, 2, 3]\n",
    "    stim_positions = [(-0.5, 0.5), (0.5, 0.5), (0, 0), (-0.5, -0.5), (0.5, -0.5)]  # top left, top right, middle, bottom left, bottom right\n",
    "    stim_events = [0, 1]\n",
    "\n",
    "    stim_conditions_list = []\n",
    "    inter_stim_conditions_list = []\n",
    "    stim_position_list = []\n",
    "    stim_event_list = []\n",
    "\n",
    "    for i in range(num_rows):\n",
    "        stim_time = np.random.choice(stim_times)\n",
    "        stim_conditions_list.append(stim_time)\n",
    "\n",
    "        inter_stim_time = np.random.choice(inter_stim_times)\n",
    "        inter_stim_conditions_list.append(inter_stim_time)\n",
    "\n",
    "        np.random.shuffle(stim_positions)\n",
    "        stim_position_list.append(stim_positions[0])\n",
    "\n",
    "        stim_event = np.random.choice(stim_events)\n",
    "        stim_event_list.append(stim_event)\n",
    "\n",
    "    return stim_conditions_list, inter_stim_conditions_list, stim_position_list, stim_event_list\n",
    "\n",
    "def vSAT_stim_csv(num_rows, save_dir):\n",
    "    \"\"\"\n",
    "    Save vSAT stim vectors in a CSV file\n",
    "    \"\"\"\n",
    "\n",
    "    stim_conditions_list, inter_stim_conditions_list, stim_position_list, stim_event_list = vSAT_stims(num_rows)\n",
    "\n",
    "    os.chdir(save_dir)\n",
    "    filename = \"vSAT_stims-\" + str(time.time()).replace(\".\", \"\") + \".csv\"\n",
    "    print(\"CSV filename: \", filename)\n",
    "\n",
    "    with open(filename, mode=\"w\", newline='') as csv_file:\n",
    "        csv_writer = csv.writer(csv_file, delimiter=',')  \n",
    "        csv_writer.writerow([\"stim_time\", \"inter_stim_time\", \"stim_position\", \"stim_event\"])  \n",
    "        \n",
    "        for stim_time, inter_stim_time, stim_position, stim_event in zip(stim_conditions_list, inter_stim_conditions_list, stim_position_list, stim_event_list):\n",
    "            csv_writer.writerow([stim_time, inter_stim_time, stim_position, stim_event])   "
   ]
  },
  {
   "cell_type": "code",
   "execution_count": 3,
   "metadata": {},
   "outputs": [
    {
     "name": "stdout",
     "output_type": "stream",
     "text": [
      "CSV filename:  vSAT_stims-1644366944138196.csv\n"
     ]
    }
   ],
   "source": [
    "#save_dir = input(\"Enter SAT  conditions dir: \")\n",
    "save_dir = r\"C:\\Users\\zackg\\OneDrive\\Ayaz Lab\\KernelFlow_PsychoPy\\vSAT\\vSAT_conditions\"\n",
    "\n",
    "num_rows = 50\n",
    "\n",
    "vSAT_stim_csv(num_rows=num_rows, save_dir=save_dir)"
   ]
  }
 ],
 "metadata": {
  "interpreter": {
   "hash": "9efce205f64ad363cd9f14615485aca38ee4ef0915866e318aa83c8d0c93f6fc"
  },
  "kernelspec": {
   "display_name": "Python 3.10.2 64-bit",
   "language": "python",
   "name": "python3"
  },
  "language_info": {
   "codemirror_mode": {
    "name": "ipython",
    "version": 3
   },
   "file_extension": ".py",
   "mimetype": "text/x-python",
   "name": "python",
   "nbconvert_exporter": "python",
   "pygments_lexer": "ipython3",
   "version": "3.9.0"
  },
  "orig_nbformat": 4
 },
 "nbformat": 4,
 "nbformat_minor": 2
}
