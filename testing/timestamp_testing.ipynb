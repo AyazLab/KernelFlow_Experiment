{
 "cells": [
  {
   "cell_type": "code",
   "execution_count": null,
   "metadata": {},
   "outputs": [],
   "source": [
    "import ctypes, os \n",
    "import datetime\n",
    "\n",
    "if (os.name=='nt'): #for Windows:\n",
    "    def micros():\n",
    "        \"return a timestamp in microseconds (us)\"\n",
    "        tics = ctypes.c_int64()\n",
    "        freq = ctypes.c_int64()\n",
    "\n",
    "        #get ticks on the internal ~2MHz QPC clock\n",
    "        ctypes.windll.Kernel32.QueryPerformanceCounter(ctypes.byref(tics)) \n",
    "        #get the actual freq. of the internal ~2MHz QPC clock\n",
    "        ctypes.windll.Kernel32.QueryPerformanceFrequency(ctypes.byref(freq))  \n",
    "        \n",
    "        t_us = tics.value*1e6/freq.value\n",
    "\n",
    "        return t_us"
   ]
  },
  {
   "cell_type": "code",
   "execution_count": null,
   "metadata": {},
   "outputs": [],
   "source": [
    "tStart = micros()\n",
    "for x in range(100):\n",
    "    tNow = micros() #us\n",
    "    dt = tNow - tStart #us; delta time \n",
    "    tStart = tNow #us; update \n",
    "    print(\"dt (us) = \" + str(dt))\n"
   ]
  },
  {
   "cell_type": "code",
   "execution_count": null,
   "metadata": {},
   "outputs": [],
   "source": [
    "ticks = micros()\n",
    "print(ticks)\n",
    "datetime.datetime.fromtimestamp(ticks)"
   ]
  },
  {
   "cell_type": "code",
   "execution_count": 1,
   "metadata": {},
   "outputs": [
    {
     "ename": "FileNotFoundError",
     "evalue": "[Errno 2] No such file or directory: 'c:\\\\Users\\\\zackg\\\\OneDrive\\\\Ayaz Lab\\\\KernelFlow_PsychoPy\\\\testing\\\\kernel_socket\\\\socket_config.json'",
     "output_type": "error",
     "traceback": [
      "\u001b[1;31m---------------------------------------------------------------------------\u001b[0m",
      "\u001b[1;31mFileNotFoundError\u001b[0m                         Traceback (most recent call last)",
      "\u001b[1;32m<ipython-input-1-d9981a62b1a3>\u001b[0m in \u001b[0;36m<module>\u001b[1;34m\u001b[0m\n\u001b[0;32m     24\u001b[0m \u001b[0msocket_config_path\u001b[0m \u001b[1;33m=\u001b[0m \u001b[0mos\u001b[0m\u001b[1;33m.\u001b[0m\u001b[0mpath\u001b[0m\u001b[1;33m.\u001b[0m\u001b[0mjoin\u001b[0m\u001b[1;33m(\u001b[0m\u001b[0mos\u001b[0m\u001b[1;33m.\u001b[0m\u001b[0mgetcwd\u001b[0m\u001b[1;33m(\u001b[0m\u001b[1;33m)\u001b[0m\u001b[1;33m,\u001b[0m \u001b[1;34m\"kernel_socket\"\u001b[0m\u001b[1;33m,\u001b[0m \u001b[1;34m\"socket_config.json\"\u001b[0m\u001b[1;33m)\u001b[0m\u001b[1;33m\u001b[0m\u001b[1;33m\u001b[0m\u001b[0m\n\u001b[0;32m     25\u001b[0m \u001b[1;33m\u001b[0m\u001b[0m\n\u001b[1;32m---> 26\u001b[1;33m \u001b[0msocket_config\u001b[0m \u001b[1;33m=\u001b[0m \u001b[0mopen\u001b[0m\u001b[1;33m(\u001b[0m\u001b[0msocket_config_path\u001b[0m\u001b[1;33m)\u001b[0m\u001b[1;33m\u001b[0m\u001b[1;33m\u001b[0m\u001b[0m\n\u001b[0m\u001b[0;32m     27\u001b[0m \u001b[0msocket_data\u001b[0m \u001b[1;33m=\u001b[0m \u001b[0mjson\u001b[0m\u001b[1;33m.\u001b[0m\u001b[0mload\u001b[0m\u001b[1;33m(\u001b[0m\u001b[0msocket_config\u001b[0m\u001b[1;33m)\u001b[0m\u001b[1;33m\u001b[0m\u001b[1;33m\u001b[0m\u001b[0m\n\u001b[0;32m     28\u001b[0m \u001b[0msocket_config\u001b[0m\u001b[1;33m.\u001b[0m\u001b[0mclose\u001b[0m\u001b[1;33m(\u001b[0m\u001b[1;33m)\u001b[0m\u001b[1;33m\u001b[0m\u001b[1;33m\u001b[0m\u001b[0m\n",
      "\u001b[1;31mFileNotFoundError\u001b[0m: [Errno 2] No such file or directory: 'c:\\\\Users\\\\zackg\\\\OneDrive\\\\Ayaz Lab\\\\KernelFlow_PsychoPy\\\\testing\\\\kernel_socket\\\\socket_config.json'"
     ]
    }
   ],
   "source": [
    "import socket\n",
    "import os\n",
    "import json\n",
    "import time\n",
    "import ctypes\n",
    "\n",
    "def return_byte_string():\n",
    "    return b'\\x0a'\n",
    "\n",
    "def micros():\n",
    "    \"return a timestamp in microseconds (us)\"\n",
    "    tics = ctypes.c_int64()\n",
    "    freq = ctypes.c_int64()\n",
    "\n",
    "    #get ticks on the internal ~2MHz QPC clock\n",
    "    ctypes.windll.Kernel32.QueryPerformanceCounter(ctypes.byref(tics)) \n",
    "    #get the actual freq. of the internal ~2MHz QPC clock\n",
    "    ctypes.windll.Kernel32.QueryPerformanceFrequency(ctypes.byref(freq))  \n",
    "    \n",
    "    t_us = tics.value*1e6/freq.value\n",
    "\n",
    "    return t_us\n",
    "\n",
    "socket_config_path = os.path.join(os.getcwd(), \"kernel_socket\", \"socket_config.json\")\n",
    "\n",
    "socket_config = open(socket_config_path)\n",
    "socket_data = json.load(socket_config)\n",
    "socket_config.close()\n",
    "\n",
    "kernel_IP = socket_data[\"kernel_IP\"]\n",
    "kernel_PORT = socket_data[\"kernel_PORT\"]\n",
    "psychopy_IP = socket_data[\"psychopy_IP\"]\n",
    "psychopy_PORT = socket_data[\"psychopy_PORT\"]\n",
    "\n",
    "print(\"Kernel PC IP:\\t\", kernel_IP)\n",
    "print(\"Kernel PC PORT:\\t\", kernel_PORT)\n",
    "print(\"PsychoPy PC IP:\\t\", psychopy_IP)\n",
    "print(\"PsychoPy PC PORT:\\t\", psychopy_PORT, \"\\n\")\n",
    "\n",
    "opened_socket = socket.socket(socket.AF_INET, socket.SOCK_DGRAM)\n",
    "udp_socket_receive = socket.socket(socket.AF_INET, socket.SOCK_DGRAM)\n",
    "udp_socket_receive.setsockopt(socket.SOL_SOCKET, socket.SO_REUSEADDR , 1)\n",
    "udp_socket_receive.bind((\"\", psychopy_PORT))\n",
    "\n",
    "participant_ID = input(\"Enter participant ID: \")\n",
    "participant_ID = f\"{int(participant_ID):02d}\"\n",
    "\n",
    "filename = f\"participant_{participant_ID}_\" + \"marker_log\" + \".txt\"   \n",
    "filepath = os.path.join(os.path.dirname(os.getcwd()), \"participants\", f\"participant_{participant_ID}\", filename)                        \n",
    "\n",
    "num_packets = 0\n",
    "psychopy_sent_timestamp_list = []\n",
    "psycopy_recv_timestamp_list = []\n",
    "t_start = micros()\n",
    "while num_packets < 100:\n",
    "    opened_socket.sendto(return_byte_string(), (kernel_IP, kernel_PORT))\n",
    "    psychopy_sent_timestamp_list.append(micros())\n",
    "    data_bytes = udp_socket_receive.recvfrom(1024)\n",
    "    if data_bytes:\n",
    "        psycopy_recv_timestamp_list.append(micros())\n",
    "        num_packets += 1"
   ]
  },
  {
   "cell_type": "code",
   "execution_count": null,
   "metadata": {},
   "outputs": [],
   "source": []
  }
 ],
 "metadata": {
  "interpreter": {
   "hash": "489ee3a99ad92b8c68b70a8fb72ee1af00ad117b9a531569513919a739da67fd"
  },
  "kernelspec": {
   "display_name": "Python 3.9.0 64-bit",
   "language": "python",
   "name": "python3"
  },
  "language_info": {
   "codemirror_mode": {
    "name": "ipython",
    "version": 3
   },
   "file_extension": ".py",
   "mimetype": "text/x-python",
   "name": "python",
   "nbconvert_exporter": "python",
   "pygments_lexer": "ipython3",
   "version": "3.9.0"
  },
  "orig_nbformat": 4
 },
 "nbformat": 4,
 "nbformat_minor": 2
}
