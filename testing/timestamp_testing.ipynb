{
 "cells": [
  {
   "cell_type": "code",
   "execution_count": null,
   "metadata": {},
   "outputs": [],
   "source": [
    "import ctypes, os \n",
    "import datetime\n",
    "\n",
    "if (os.name=='nt'): #for Windows:\n",
    "    def micros():\n",
    "        \"return a timestamp in microseconds (us)\"\n",
    "        tics = ctypes.c_int64()\n",
    "        freq = ctypes.c_int64()\n",
    "\n",
    "        #get ticks on the internal ~2MHz QPC clock\n",
    "        ctypes.windll.Kernel32.QueryPerformanceCounter(ctypes.byref(tics)) \n",
    "        #get the actual freq. of the internal ~2MHz QPC clock\n",
    "        ctypes.windll.Kernel32.QueryPerformanceFrequency(ctypes.byref(freq))  \n",
    "        \n",
    "        t_us = tics.value*1e6/freq.value\n",
    "        return t_us\n",
    "        \n",
    "    def millis():\n",
    "        \"return a timestamp in milliseconds (ms)\"\n",
    "        tics = ctypes.c_int64()\n",
    "        freq = ctypes.c_int64()\n",
    "\n",
    "        #get ticks on the internal ~2MHz QPC clock\n",
    "        ctypes.windll.Kernel32.QueryPerformanceCounter(ctypes.byref(tics)) \n",
    "        #get the actual freq. of the internal ~2MHz QPC clock \n",
    "        ctypes.windll.Kernel32.QueryPerformanceFrequency(ctypes.byref(freq)) \n",
    "        \n",
    "        t_ms = tics.value*1e3/freq.value\n",
    "        return t_ms"
   ]
  },
  {
   "cell_type": "code",
   "execution_count": null,
   "metadata": {},
   "outputs": [],
   "source": [
    "tStart = micros()\n",
    "for x in range(100):\n",
    "    tNow = micros() #us\n",
    "    dt = tNow - tStart #us; delta time \n",
    "    tStart = tNow #us; update \n",
    "    print(\"dt(us) = \" + str(dt))\n"
   ]
  },
  {
   "cell_type": "code",
   "execution_count": 27,
   "metadata": {},
   "outputs": [
    {
     "name": "stdout",
     "output_type": "stream",
     "text": [
      "2215498126.9\n"
     ]
    },
    {
     "data": {
      "text/plain": [
       "datetime.datetime(2040, 3, 16, 4, 8, 46, 900000)"
      ]
     },
     "execution_count": 27,
     "metadata": {},
     "output_type": "execute_result"
    }
   ],
   "source": [
    "ticks = micros()\n",
    "print(ticks)\n",
    "datetime.datetime.fromtimestamp(ticks)"
   ]
  },
  {
   "cell_type": "code",
   "execution_count": null,
   "metadata": {},
   "outputs": [],
   "source": []
  }
 ],
 "metadata": {
  "interpreter": {
   "hash": "489ee3a99ad92b8c68b70a8fb72ee1af00ad117b9a531569513919a739da67fd"
  },
  "kernelspec": {
   "display_name": "Python 3.9.0 64-bit",
   "language": "python",
   "name": "python3"
  },
  "language_info": {
   "codemirror_mode": {
    "name": "ipython",
    "version": 3
   },
   "file_extension": ".py",
   "mimetype": "text/x-python",
   "name": "python",
   "nbconvert_exporter": "python",
   "pygments_lexer": "ipython3",
   "version": "3.9.0"
  },
  "orig_nbformat": 4
 },
 "nbformat": 4,
 "nbformat_minor": 2
}
