{
 "cells": [
  {
   "cell_type": "code",
   "execution_count": 7,
   "metadata": {},
   "outputs": [],
   "source": [
    "import os\n",
    "import csv\n",
    "\n",
    "def practice_loop_csv(save_dir, num_rows=3):\n",
    "    \"\"\"\n",
    "    Save a practice loop conditions csv file\n",
    "    \"\"\"\n",
    "\n",
    "    filename = \"practice_loop_count.csv\"\n",
    "    filepath = os.path.join(save_dir, filename)\n",
    "    print(\"CSV filename: \", filename)\n",
    "\n",
    "    with open(filepath, mode=\"w\", newline='') as csv_file:\n",
    "        csv_writer = csv.writer(csv_file, delimiter=',')  \n",
    "        csv_writer.writerow([\"loop_count\"])  \n",
    "        \n",
    "        for i in range(num_rows):\n",
    "            csv_writer.writerow([i+1])  "
   ]
  },
  {
   "cell_type": "code",
   "execution_count": 8,
   "metadata": {},
   "outputs": [
    {
     "name": "stdout",
     "output_type": "stream",
     "text": [
      "CSV filename:  practice_loop_count.csv\n"
     ]
    }
   ],
   "source": [
    "task_dir = r\"C:\\Users\\zackg\\OneDrive\\Ayaz Lab\\KernelFlow_PsychoPy\\go_no_go - latest\\traditional_GNG\"\n",
    "save_dir = os.path.join(task_dir, \"practice\")\n",
    "\n",
    "num_rows = 3\n",
    "practice_loop_csv(save_dir=save_dir)"
   ]
  },
  {
   "cell_type": "code",
   "execution_count": null,
   "metadata": {},
   "outputs": [],
   "source": []
  }
 ],
 "metadata": {
  "interpreter": {
   "hash": "489ee3a99ad92b8c68b70a8fb72ee1af00ad117b9a531569513919a739da67fd"
  },
  "kernelspec": {
   "display_name": "Python 3.9.0 64-bit",
   "language": "python",
   "name": "python3"
  },
  "language_info": {
   "codemirror_mode": {
    "name": "ipython",
    "version": 3
   },
   "file_extension": ".py",
   "mimetype": "text/x-python",
   "name": "python",
   "nbconvert_exporter": "python",
   "pygments_lexer": "ipython3",
   "version": "3.9.0"
  },
  "orig_nbformat": 4
 },
 "nbformat": 4,
 "nbformat_minor": 2
}
