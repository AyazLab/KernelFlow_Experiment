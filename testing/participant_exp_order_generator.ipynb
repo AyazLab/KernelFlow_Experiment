{
 "cells": [
  {
   "cell_type": "code",
   "execution_count": 3,
   "metadata": {},
   "outputs": [],
   "source": [
    "import numpy as np\n",
    "\n",
    "def create_experiment_order(save_dir):\n",
    "    exp_block1 = [\"vSAT\", \"king_devick\", \"audio_narrative\"]\n",
    "    exp_block2 = [\"n_back\", \"tower_of_london\", \"video_narrative_cmiyc\"]\n",
    "    exp_block3 = [\"go_no_go\", \"resting_state\", \"video_narrative_sherlock\"]\n",
    "    exp_blocks = [exp_block1, exp_block2, exp_block3]\n",
    "\n",
    "    # randomize order of first two experiments in each block\n",
    "    for i, exp_block in enumerate(exp_blocks):\n",
    "        exp_block_copy = exp_block[0:2]\n",
    "        np.random.shuffle(exp_block_copy)    \n",
    "        exp_block[0:2] = exp_block_copy  \n",
    "        exp_blocks[i] = exp_block\n",
    "\n",
    "    # randomize order of experiment block\n",
    "    np.random.shuffle(exp_blocks) \n",
    "\n",
    "    par = os.path.basename(save_dir)\n",
    "    filepath = os.path.join(save_dir, f\"{par}_\" + \"experiment_order.txt\")                        \n",
    "    exp_file = open(filepath, 'w')\n",
    "\n",
    "    for i, exp_block in enumerate(exp_blocks):\n",
    "        exp_file.write(f\"Block {i+1}\\n\" + \"-------\\n\")\n",
    "        exp_file.write(f\"{exp_block[0]}\\n\" + f\"{exp_block[1]}\\n\" + f\"{exp_block[2]}\\n\" + \"\\n\")\n",
    "\n",
    "    experiment_order = [exp for exp_block in exp_blocks for exp in exp_block]\n",
    "   \n",
    "    return experiment_order"
   ]
  },
  {
   "cell_type": "code",
   "execution_count": 4,
   "metadata": {},
   "outputs": [
    {
     "name": "stdout",
     "output_type": "stream",
     "text": [
      "['N-Back', 'Tower of London', 'Video Narrative (CMIYC)', 'vSAT', 'Kind Devick', 'Audio Narrative', 'Resting State', 'Go/No-Go', 'Video Narrative (Sherlock)']\n"
     ]
    }
   ],
   "source": [
    "save_dir = r\"C:\\Users\\zackg\\OneDrive\\Ayaz Lab\\KernelFlow_PsychoPy\\participants\\participant_01\"\n",
    "experiment_order = create_experiment_order(save_dir)\n",
    "print(experiment_order)"
   ]
  },
  {
   "cell_type": "code",
   "execution_count": null,
   "metadata": {},
   "outputs": [],
   "source": []
  }
 ],
 "metadata": {
  "interpreter": {
   "hash": "489ee3a99ad92b8c68b70a8fb72ee1af00ad117b9a531569513919a739da67fd"
  },
  "kernelspec": {
   "display_name": "Python 3.9.0 64-bit",
   "language": "python",
   "name": "python3"
  },
  "language_info": {
   "codemirror_mode": {
    "name": "ipython",
    "version": 3
   },
   "file_extension": ".py",
   "mimetype": "text/x-python",
   "name": "python",
   "nbconvert_exporter": "python",
   "pygments_lexer": "ipython3",
   "version": "3.9.0"
  },
  "orig_nbformat": 4
 },
 "nbformat": 4,
 "nbformat_minor": 2
}
