{
 "cells": [
  {
   "cell_type": "code",
   "execution_count": 3,
   "metadata": {},
   "outputs": [],
   "source": [
    "import socket\n",
    "import os\n",
    "import json"
   ]
  },
  {
   "cell_type": "code",
   "execution_count": 6,
   "metadata": {},
   "outputs": [
    {
     "name": "stdout",
     "output_type": "stream",
     "text": [
      "Kernel PC IP:\t 10.250.17.18\n",
      "Kernel PC PORT:\t 7891\n"
     ]
    }
   ],
   "source": [
    "socket_config_path = os.path.join(os.getcwd(), \"kernel_socket\", \"socket_config.json\")\n",
    "\n",
    "socket_config = open(socket_config_path)\n",
    "socket_data = json.load(socket_config)\n",
    "socket_config.close()\n",
    "\n",
    "kernel_IP = socket_data[\"IP\"]\n",
    "kernel_PORT = socket_data[\"PORT\"]\n",
    "\n",
    "print(\"Kernel PC IP:\\t\", kernel_IP)\n",
    "print(\"Kernel PC PORT:\\t\", kernel_PORT)"
   ]
  },
  {
   "cell_type": "code",
   "execution_count": 8,
   "metadata": {},
   "outputs": [],
   "source": [
    "udp_socket_receive = socket.socket(socket.AF_INET, socket.SOCK_DGRAM)\n",
    "udp_socket_receive.setsockopt(socket.SOL_SOCKET, socket.SO_REUSEADDR , 1)\n",
    "udp_socket_receive.bind((\"\", kernel_PORT))"
   ]
  },
  {
   "cell_type": "code",
   "execution_count": 26,
   "metadata": {},
   "outputs": [
    {
     "name": "stdout",
     "output_type": "stream",
     "text": [
      "Participant ID:\t 01\n"
     ]
    }
   ],
   "source": [
    "participant_ID = input(\"Enter participant ID: \")\n",
    "participant_ID = f\"{int(participant_ID):02d}\"\n",
    "print(\"Participant ID:\\t\", participant_ID)"
   ]
  },
  {
   "cell_type": "code",
   "execution_count": 31,
   "metadata": {},
   "outputs": [
    {
     "name": "stdout",
     "output_type": "stream",
     "text": [
      "c:\\Users\\zackg\\OneDrive\\Ayaz Lab\\KernelFlow_PsychoPy\\main\n",
      "c:\\Users\\zackg\\OneDrive\\Ayaz Lab\\KernelFlow_PsychoPy\n",
      "c:\\Users\\zackg\\OneDrive\\Ayaz Lab\\KernelFlow_PsychoPy\\participants\\participant_01\n"
     ]
    }
   ],
   "source": [
    "print(os.getcwd())\n",
    "print(os.path.dirname(os.getcwd()))\n",
    "temp_dir = os.path.dirname(os.getcwd())\n",
    "participant_dir = os.path.join(temp_dir, \"participants\", f\"participant_{participant_ID}\")\n",
    "print(participant_dir)"
   ]
  },
  {
   "cell_type": "code",
   "execution_count": 33,
   "metadata": {},
   "outputs": [
    {
     "name": "stdout",
     "output_type": "stream",
     "text": [
      "participant_01_marker_log.txt\n"
     ]
    }
   ],
   "source": [
    "filename = f\"participant_{participant_ID}_\" + \"marker_log\" + \".txt\"   # file name\n",
    "print(\"Marker log filename:\\t\", filename)\n",
    "filepath = os.path.join(participant_dir, filename)                   # file path\n",
    "\n",
    "udp_file = open(filepath, 'w')"
   ]
  },
  {
   "cell_type": "code",
   "execution_count": null,
   "metadata": {},
   "outputs": [],
   "source": [
    "while True:\n",
    "    data_bytes, addr = udp_socket_receive.recvfrom(1024)\n",
    "    timestamp = time.time()\n",
    "    data = data_bytes.decode(\"utf-8\") \n",
    "    print(\"Recieved\\t\", timestamp, \"\\t\" data)\n",
    "    udp_file.write(\"Recieved\\t\", timestamp, \"\\t\", data, \"\\n\") \n",
    "    udp_file.flush() "
   ]
  },
  {
   "cell_type": "code",
   "execution_count": 35,
   "metadata": {},
   "outputs": [
    {
     "name": "stdout",
     "output_type": "stream",
     "text": [
      "1651345890.3485703\n",
      "1651345890354602200\n"
     ]
    }
   ],
   "source": [
    "import time\n",
    "print(time.time())\n",
    "print(time.time_ns())"
   ]
  },
  {
   "cell_type": "code",
   "execution_count": null,
   "metadata": {},
   "outputs": [],
   "source": []
  }
 ],
 "metadata": {
  "interpreter": {
   "hash": "489ee3a99ad92b8c68b70a8fb72ee1af00ad117b9a531569513919a739da67fd"
  },
  "kernelspec": {
   "display_name": "Python 3.9.0 64-bit",
   "language": "python",
   "name": "python3"
  },
  "language_info": {
   "codemirror_mode": {
    "name": "ipython",
    "version": 3
   },
   "file_extension": ".py",
   "mimetype": "text/x-python",
   "name": "python",
   "nbconvert_exporter": "python",
   "pygments_lexer": "ipython3",
   "version": "3.9.0"
  },
  "orig_nbformat": 4
 },
 "nbformat": 4,
 "nbformat_minor": 2
}
