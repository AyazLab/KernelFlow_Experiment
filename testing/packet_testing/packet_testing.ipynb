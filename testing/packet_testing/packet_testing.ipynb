{
 "cells": [
  {
   "cell_type": "code",
   "execution_count": 1,
   "metadata": {},
   "outputs": [
    {
     "name": "stdout",
     "output_type": "stream",
     "text": [
      "Kernel PC IP:  10.0.0.100\n",
      "Kernel PC PORT:  4321\n",
      "PsychoPy PC IP:  10.0.0.199\n",
      "PsychoPy PC PORT:  1234 \n",
      "\n"
     ]
    }
   ],
   "source": [
    "import socket\n",
    "import os\n",
    "import json\n",
    "import time\n",
    "import ctypes\n",
    "import statistics\n",
    "import pandas as pd\n",
    "\n",
    "def return_byte_string():\n",
    "    return b'\\x0a'\n",
    "\n",
    "def micros():\n",
    "    \"return a timestamp in microseconds (us)\"\n",
    "    tics = ctypes.c_int64()\n",
    "    freq = ctypes.c_int64()\n",
    "\n",
    "    #get ticks on the internal ~2MHz QPC clock\n",
    "    ctypes.windll.Kernel32.QueryPerformanceCounter(ctypes.byref(tics)) \n",
    "    #get the actual freq. of the internal ~2MHz QPC clock\n",
    "    ctypes.windll.Kernel32.QueryPerformanceFrequency(ctypes.byref(freq))  \n",
    "    \n",
    "    t_us = tics.value*1e6/freq.value\n",
    "\n",
    "    return t_us\n",
    "\n",
    "socket_config_path = os.path.join(os.getcwd(), \"kernel_socket\", \"socket_config.json\")\n",
    "\n",
    "socket_config = open(socket_config_path)\n",
    "socket_data = json.load(socket_config)\n",
    "socket_config.close()\n",
    "\n",
    "kernel_IP = socket_data[\"kernel_IP\"]\n",
    "kernel_PORT = socket_data[\"kernel_PORT\"]\n",
    "psychopy_IP = socket_data[\"psychopy_IP\"]\n",
    "psychopy_PORT = socket_data[\"psychopy_PORT\"]\n",
    "\n",
    "print(\"Kernel PC IP: \", kernel_IP)\n",
    "print(\"Kernel PC PORT: \", kernel_PORT)\n",
    "print(\"PsychoPy PC IP: \", psychopy_IP)\n",
    "print(\"PsychoPy PC PORT: \", psychopy_PORT, \"\\n\")\n",
    "\n",
    "opened_socket = socket.socket(socket.AF_INET, socket.SOCK_DGRAM)\n",
    "udp_socket_receive = socket.socket(socket.AF_INET, socket.SOCK_DGRAM)\n",
    "udp_socket_receive.setsockopt(socket.SOL_SOCKET, socket.SO_REUSEADDR , 1)\n",
    "udp_socket_receive.bind((\"\", psychopy_PORT)) "
   ]
  },
  {
   "cell_type": "code",
   "execution_count": 14,
   "metadata": {},
   "outputs": [
    {
     "name": "stdout",
     "output_type": "stream",
     "text": [
      "Num packets:  1000\n",
      "One-way Mean (us):  2448.1911500473025\n",
      "One-way STD (us):  630.4253908419364\n"
     ]
    }
   ],
   "source": [
    "# One byte testing\n",
    "\n",
    "num_packets = 0\n",
    "psychopy_sent_micros_list = []\n",
    "psychopy_recv_micros_list = []\n",
    "t_start = micros()\n",
    "while num_packets < 1000:\n",
    "    opened_socket.sendto(return_byte_string(), (kernel_IP, kernel_PORT))\n",
    "    psychopy_sent_micros_list.append(micros())\n",
    "    data_bytes = udp_socket_receive.recvfrom(1024)\n",
    "    if data_bytes:\n",
    "        psychopy_recv_micros_list.append(micros())\n",
    "        num_packets += 1\n",
    "\n",
    "bytes_df = pd.DataFrame(list(zip(psychopy_sent_micros_list, psychopy_recv_micros_list)), columns=[\"Sent (us)\", \"Recieved (us)\"])\n",
    "bytes_df.loc[:, \"Two-way time (us)\"] = bytes_df.loc[:, \"Recieved (us)\"].subtract(bytes_df.loc[:, \"Sent (us)\"])\n",
    "bytes_df.loc[:, \"One-way time (us)\"] = bytes_df.loc[:, \"Two-way time (us)\"].divide(2)\n",
    "\n",
    "print(\"Num packets: \", len(bytes_df))\n",
    "print(\"One-way Mean (us): \", bytes_df[\"One-way time (us)\"].mean())\n",
    "print(\"One-way STD (us): \", bytes_df[\"One-way time (us)\"].std())\n",
    "\n",
    "filename = \"packet_bytes_df.xlsx\"\n",
    "filepath = os.path.join(os.getcwd(), filename)\n",
    "\n",
    "writer = pd.ExcelWriter(filepath)\n",
    "bytes_df.to_excel(writer)\n",
    "writer.save()"
   ]
  },
  {
   "cell_type": "code",
   "execution_count": 15,
   "metadata": {},
   "outputs": [
    {
     "name": "stdout",
     "output_type": "stream",
     "text": [
      "Num packets:  1000\n",
      "One-way Mean (us):  2752.763749824524\n",
      "One-way Std (us):  1097.9788220768307\n",
      "Clock-delta Mean (us):  -3105.4763811840007\n",
      "Clock-delta Std (us):  4.802897102282735\n"
     ]
    }
   ],
   "source": [
    "# Timestamp testing\n",
    "\n",
    "psychopy_sent_timestamp_list = []\n",
    "psychopy_recv_timestamp_list = []\n",
    "psychopy_sent_micros_list = []\n",
    "psychopy_recv_micros_list = []\n",
    "raw_kernel_packets_list = []\n",
    "\n",
    "num_packets = 0\n",
    "while num_packets < 1000:\n",
    "    sent_timestamp = time.time_ns()\n",
    "    opened_socket.sendto(f\"{sent_timestamp}\".encode(\"utf-8\"), (kernel_IP, kernel_PORT))\n",
    "    psychopy_sent_micros_list.append(micros())\n",
    "    data_bytes, addr = udp_socket_receive.recvfrom(1024)\n",
    "    if data_bytes:\n",
    "        psychopy_recv_timestamp_list.append(time.time_ns())\n",
    "        psychopy_recv_micros_list.append(micros())\n",
    "        raw_kernel_packets_list.append(data_bytes)\n",
    "        num_packets += 1\n",
    "    psychopy_sent_timestamp_list.append(sent_timestamp)\n",
    "\n",
    "kernel_recv_timestamp_list = []\n",
    "kernel_sent_timestamp_list = []\n",
    "\n",
    "for kernel_packet in raw_kernel_packets_list:\n",
    "    kernel_data = kernel_packet.decode(\"utf-8\") \n",
    "    kernel_recv_timestamp_list.append(float(kernel_data.split(\",\")[0]))\n",
    "    kernel_sent_timestamp_list.append(float(kernel_data.split(\",\")[1]))\n",
    "\n",
    "bytes_timestamps_df = pd.DataFrame(list(zip(psychopy_sent_micros_list, psychopy_recv_micros_list)), columns=[\"Sent (us)\", \"Recieved (us)\"])\n",
    "bytes_timestamps_df.loc[:, \"Two-way time (us)\"] = bytes_timestamps_df.loc[:, \"Recieved (us)\"].subtract(bytes_timestamps_df.loc[:,\"Sent (us)\"])\n",
    "bytes_timestamps_df.loc[:, \"One-way time (us)\"] = bytes_timestamps_df.loc[:, \"Two-way time (us)\"].divide(2)\n",
    "bytes_timestamps_df[\"PsychoPy Sent (UTC)\"] = psychopy_sent_timestamp_list\n",
    "bytes_timestamps_df[\"PsychoPy Recv (UTC)\"] = psychopy_recv_timestamp_list\n",
    "bytes_timestamps_df[\"Kernel Sent (UTC)\"] = kernel_sent_timestamp_list\n",
    "bytes_timestamps_df[\"Kernel Recv (UTC)\"] = kernel_recv_timestamp_list\n",
    "\n",
    "print(\"Num packets: \", len(bytes_timestamps_df))\n",
    "one_way_mean_us = bytes_timestamps_df[\"One-way time (us)\"].mean()\n",
    "print(\"One-way Mean (us): \", one_way_mean_us)\n",
    "one_way_std_us = bytes_timestamps_df[\"One-way time (us)\"].std()\n",
    "print(\"One-way Std (us): \", one_way_std_us)\n",
    "\n",
    "one_way_mean_s = one_way_mean_us * 1e6\n",
    "\n",
    "# T2-(T1+t1)\n",
    "bytes_timestamps_df[\"Clock delta (us)\"] = bytes_timestamps_df.loc[:, \"Kernel Recv (UTC)\"].subtract(bytes_timestamps_df.loc[:, \"PsychoPy Sent (UTC)\"].add(one_way_mean_s))\n",
    "bytes_timestamps_df[\"Clock delta (us)\"] = bytes_timestamps_df.loc[:, \"Clock delta (us)\"].divide(1e6)\n",
    "\n",
    "# If negative, Kernel clock is behind\n",
    "clock_delta_mean = bytes_timestamps_df[\"Clock delta (us)\"].mean()\n",
    "print(\"Clock-delta Mean (us): \", clock_delta_mean)\n",
    "clock_delta_std = bytes_timestamps_df[\"Clock delta (us)\"].std()\n",
    "print(\"Clock-delta Std (us): \", clock_delta_std)\n",
    "\n",
    "filename = \"packet_bytes_timestamps_df.xlsx\"\n",
    "filepath = os.path.join(os.getcwd(), filename)\n",
    "\n",
    "writer = pd.ExcelWriter(filepath)\n",
    "bytes_timestamps_df.to_excel(writer)\n",
    "writer.save()"
   ]
  },
  {
   "cell_type": "code",
   "execution_count": null,
   "metadata": {},
   "outputs": [],
   "source": []
  }
 ],
 "metadata": {
  "interpreter": {
   "hash": "489ee3a99ad92b8c68b70a8fb72ee1af00ad117b9a531569513919a739da67fd"
  },
  "kernelspec": {
   "display_name": "Python 3.9.0 64-bit",
   "language": "python",
   "name": "python3"
  },
  "language_info": {
   "codemirror_mode": {
    "name": "ipython",
    "version": 3
   },
   "file_extension": ".py",
   "mimetype": "text/x-python",
   "name": "python",
   "nbconvert_exporter": "python",
   "pygments_lexer": "ipython3",
   "version": "3.9.0"
  },
  "orig_nbformat": 4
 },
 "nbformat": 4,
 "nbformat_minor": 2
}
