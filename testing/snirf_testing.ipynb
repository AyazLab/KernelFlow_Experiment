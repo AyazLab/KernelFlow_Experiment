{
 "cells": [
  {
   "cell_type": "code",
   "execution_count": 3,
   "metadata": {},
   "outputs": [],
   "source": [
    "from pysnirf2 import Snirf\n",
    "\n",
    "snirf = Snirf(r\"C:\\Users\\zackg\\Downloads\\Cog1_S001_2163c20_5.snirf\")"
   ]
  },
  {
   "cell_type": "code",
   "execution_count": 4,
   "metadata": {},
   "outputs": [
    {
     "name": "stdout",
     "output_type": "stream",
     "text": [
      "-2.1261970800398964\n",
      "0.4647180625357956\n",
      "-3.0151179476978753\n",
      "0.1917908120028038\n",
      "-3.727706115184702\n"
     ]
    }
   ],
   "source": [
    "for i in range(5):\n",
    "    print(snirf.nirs[0].data[0].dataTimeSeries[0][i])"
   ]
  },
  {
   "cell_type": "code",
   "execution_count": 5,
   "metadata": {},
   "outputs": [],
   "source": [
    "import numpy as np\n",
    "np.shape(snirf.nirs[0].data[0].dataTimeSeries)\n",
    "x = snirf.nirs[0].data[0].dataTimeSeries[:, 0:10]\n",
    "\n",
    "#snirf.nirs[0].data[0].time[1:5]"
   ]
  },
  {
   "cell_type": "code",
   "execution_count": 6,
   "metadata": {},
   "outputs": [],
   "source": [
    "#dir(snirf.nirs[0].data[0])"
   ]
  },
  {
   "cell_type": "code",
   "execution_count": 7,
   "metadata": {},
   "outputs": [
    {
     "name": "stdout",
     "output_type": "stream",
     "text": [
      "MetaDataTags at /nirs/metaDataTags\n",
      "FrequencyUnit: Hz\n",
      "KernelPortalVersion: 2022.05.06\n",
      "LengthUnit: mm\n",
      "MeasurementDate: 2022-06-15\n",
      "MeasurementTime: 18:43:22\n",
      "SubjectID: S001\n",
      "TimeUnit: s\n",
      "filename: C:\\Users\\zackg\\Downloads\\Cog1_S001_2163c20_5.snirf\n",
      "location: /nirs/metaDataTags\n",
      "\n",
      "\n",
      "2022-06-15\n",
      "18:43:22\n"
     ]
    }
   ],
   "source": [
    "print(snirf.nirs[0].metaDataTags)\n",
    "print(\"\\n\")\n",
    "print(snirf.nirs[0].metaDataTags.MeasurementDate)\n",
    "print(snirf.nirs[0].metaDataTags.MeasurementTime)"
   ]
  },
  {
   "cell_type": "code",
   "execution_count": 8,
   "metadata": {},
   "outputs": [
    {
     "name": "stdout",
     "output_type": "stream",
     "text": [
      "[5.15775919 5.29784155 5.43792367 5.57800579 5.71808791 5.85817027\n",
      " 5.99825239 6.13833451 6.27841663 6.41849899]\n"
     ]
    }
   ],
   "source": [
    "print(snirf.nirs[0].data[0].time[0:10])"
   ]
  },
  {
   "cell_type": "code",
   "execution_count": 9,
   "metadata": {},
   "outputs": [
    {
     "name": "stdout",
     "output_type": "stream",
     "text": [
      "7.13865760754866\n",
      "7.138669757483231\n"
     ]
    }
   ],
   "source": [
    "# Sampling frequency\n",
    "print(1/(snirf.nirs[0].data[0].time[1]-snirf.nirs[0].data[0].time[0]))\n",
    "print(1/(snirf.nirs[0].data[0].time[2]-snirf.nirs[0].data[0].time[1]))"
   ]
  },
  {
   "cell_type": "code",
   "execution_count": 10,
   "metadata": {},
   "outputs": [
    {
     "name": "stdout",
     "output_type": "stream",
     "text": [
      "12434.1212\n"
     ]
    }
   ],
   "source": [
    "x = str(12434.1212)\n",
    "y = float(x)\n",
    "print(y)"
   ]
  },
  {
   "cell_type": "code",
   "execution_count": null,
   "metadata": {},
   "outputs": [],
   "source": []
  }
 ],
 "metadata": {
  "interpreter": {
   "hash": "40c2e5c495cf0805a7af6b9af036ebce8420ee546bc2fe8c0d5a9a325cfa3a2f"
  },
  "kernelspec": {
   "display_name": "Python 3.9.0 64-bit",
   "language": "python",
   "name": "python3"
  },
  "language_info": {
   "codemirror_mode": {
    "name": "ipython",
    "version": 3
   },
   "file_extension": ".py",
   "mimetype": "text/x-python",
   "name": "python",
   "nbconvert_exporter": "python",
   "pygments_lexer": "ipython3",
   "version": "3.9.0"
  },
  "orig_nbformat": 4
 },
 "nbformat": 4,
 "nbformat_minor": 2
}
