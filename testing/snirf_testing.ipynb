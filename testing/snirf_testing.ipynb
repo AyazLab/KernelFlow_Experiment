{
 "cells": [
  {
   "cell_type": "code",
   "execution_count": 1,
   "metadata": {},
   "outputs": [],
   "source": [
    "from pysnirf2 import Snirf\n",
    "\n",
    "snirf = Snirf(r\"C:\\Users\\zackg\\OneDrive\\Ayaz Lab\\Cog1_S000_c52eca0_3.snirf\")"
   ]
  },
  {
   "cell_type": "code",
   "execution_count": 2,
   "metadata": {},
   "outputs": [
    {
     "name": "stdout",
     "output_type": "stream",
     "text": [
      "10481494.0\n",
      "1567.6688743036061\n",
      "121007.65600502124\n",
      "12211299.0\n",
      "1279.3666935024685\n"
     ]
    }
   ],
   "source": [
    "for i in range(5):\n",
    "    print(snirf.nirs[0].data[0].dataTimeSeries[0][i])"
   ]
  },
  {
   "cell_type": "code",
   "execution_count": 3,
   "metadata": {},
   "outputs": [],
   "source": [
    "import numpy as np\n",
    "np.shape(snirf.nirs[0].data[0].dataTimeSeries)\n",
    "x = snirf.nirs[0].data[0].dataTimeSeries[:, 0:10]\n",
    "\n",
    "#snirf.nirs[0].data[0].time[1:5]"
   ]
  },
  {
   "cell_type": "code",
   "execution_count": 8,
   "metadata": {},
   "outputs": [],
   "source": [
    "#dir(snirf.nirs[0].data[0])\n"
   ]
  },
  {
   "cell_type": "code",
   "execution_count": 5,
   "metadata": {},
   "outputs": [
    {
     "name": "stdout",
     "output_type": "stream",
     "text": [
      "MetaDataTags at /nirs/metaDataTags\n",
      "FrequencyUnit: Hz\n",
      "KernelPortalVersion: 2022.03.03\n",
      "LengthUnit: mm\n",
      "MeasurementDate: 2022-04-27\n",
      "MeasurementTime: 19:19:27\n",
      "SubjectID: S000\n",
      "TimeUnit: s\n",
      "filename: C:\\Users\\zackg\\OneDrive\\Ayaz Lab\\Cog1_S000_c52eca0_3.snirf\n",
      "location: /nirs/metaDataTags\n",
      "\n",
      "\n",
      "2022-04-27\n",
      "19:19:27\n"
     ]
    }
   ],
   "source": [
    "print(snirf.nirs[0].metaDataTags)\n",
    "print(\"\\n\")\n",
    "print(snirf.nirs[0].metaDataTags.MeasurementDate)\n",
    "print(snirf.nirs[0].metaDataTags.MeasurementTime)"
   ]
  },
  {
   "cell_type": "code",
   "execution_count": 15,
   "metadata": {},
   "outputs": [
    {
     "name": "stdout",
     "output_type": "stream",
     "text": [
      "[5.1446979  5.2847805  5.42486286 5.56494522 5.70502782 5.84511018\n",
      " 5.98519254 6.1252749  6.26535749 6.40543985]\n"
     ]
    }
   ],
   "source": [
    "print(snirf.nirs[0].data[0].time[0:10])"
   ]
  },
  {
   "cell_type": "code",
   "execution_count": 9,
   "metadata": {},
   "outputs": [
    {
     "name": "stdout",
     "output_type": "stream",
     "text": [
      "7.138645457655446\n",
      "7.13865760754866\n"
     ]
    }
   ],
   "source": [
    "# Sampling frequency\n",
    "print(1/(snirf.nirs[0].data[0].time[1]-snirf.nirs[0].data[0].time[0]))\n",
    "print(1/(snirf.nirs[0].data[0].time[2]-snirf.nirs[0].data[0].time[1]))"
   ]
  },
  {
   "cell_type": "code",
   "execution_count": null,
   "metadata": {},
   "outputs": [],
   "source": []
  }
 ],
 "metadata": {
  "interpreter": {
   "hash": "489ee3a99ad92b8c68b70a8fb72ee1af00ad117b9a531569513919a739da67fd"
  },
  "kernelspec": {
   "display_name": "Python 3.9.0 64-bit",
   "language": "python",
   "name": "python3"
  },
  "language_info": {
   "codemirror_mode": {
    "name": "ipython",
    "version": 3
   },
   "file_extension": ".py",
   "mimetype": "text/x-python",
   "name": "python",
   "nbconvert_exporter": "python",
   "pygments_lexer": "ipython3",
   "version": "3.9.0"
  },
  "orig_nbformat": 4
 },
 "nbformat": 4,
 "nbformat_minor": 2
}
