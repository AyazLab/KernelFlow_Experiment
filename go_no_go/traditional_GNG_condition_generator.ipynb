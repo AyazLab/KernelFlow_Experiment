{
 "cells": [
  {
   "cell_type": "code",
   "execution_count": 16,
   "metadata": {},
   "outputs": [],
   "source": [
    "import os\n",
    "import csv\n",
    "import time\n",
    "import math\n",
    "import numpy as np\n",
    "\n",
    "def go_stims(num_rows):\n",
    "    \"\"\"\n",
    "    List of polygon verticies (3 - triangle)\n",
    "    \"\"\"\n",
    "\n",
    "    return [0] * num_rows\n",
    "\n",
    "def go_stim_csv(num_rows, save_dir):\n",
    "    \"\"\"\n",
    "    Save Go stim vectors in a CSV file\n",
    "    \"\"\"\n",
    "\n",
    "    go_stim_list = go_stims(num_rows)\n",
    "\n",
    "    os.chdir(save_dir)\n",
    "    filename = \"go_stims-\" + str(time.time()).replace(\".\", \"\") + \".csv\"\n",
    "    print(\"CSV filename: \", filename)\n",
    "\n",
    "    with open(filename, mode=\"w\", newline='') as csv_file:\n",
    "        csv_writer = csv.writer(csv_file, delimiter=',')  \n",
    "        csv_writer.writerow([\"go_stim\", \"match\"])  \n",
    "        \n",
    "        for go_stim in go_stim_list:\n",
    "            csv_writer.writerow([go_stim, \"['space']\"])  \n",
    "\n",
    "def GNG_stims(num_rows):\n",
    "    \"\"\"\n",
    "    Randomized list of polygon verticies (3 - triangle, 4 - square)\n",
    "    \"\"\"\n",
    "\n",
    "    return np.random.randint(0, 2, num_rows)\n",
    "\n",
    "def GNG_stim_csv(num_rows, save_dir):\n",
    "    \"\"\"\n",
    "    Save Go/No-Go stim vectors in a CSV file\n",
    "    \"\"\"\n",
    "\n",
    "    GNG_stim_list = GNG_stims(num_rows)\n",
    "\n",
    "    os.chdir(save_dir)\n",
    "    filename = \"GNG_stims-\" + str(time.time()).replace(\".\", \"\") + \".csv\"\n",
    "    print(\"CSV filename: \", filename)\n",
    "\n",
    "    with open(filename, mode=\"w\", newline='') as csv_file:\n",
    "        csv_writer = csv.writer(csv_file, delimiter=',')  \n",
    "        csv_writer.writerow([\"GNG_stim\", \"match\"])  \n",
    "        \n",
    "        for GNG_stim in GNG_stim_list:\n",
    "            if GNG_stim == 0:\n",
    "                csv_writer.writerow([GNG_stim, \"['space']\"]) \n",
    "            elif GNG_stim == 1:\n",
    "                csv_writer.writerow([GNG_stim, \"\"]) "
   ]
  },
  {
   "cell_type": "code",
   "execution_count": 18,
   "metadata": {},
   "outputs": [
    {
     "name": "stdout",
     "output_type": "stream",
     "text": [
      "CSV filename:  go_stims-16441925097648246.csv\n",
      "CSV filename:  GNG_stims-1644192509873823.csv\n"
     ]
    }
   ],
   "source": [
    "#save_dir = input(\"Enter Go/No-Go conditions dir: \")\n",
    "save_dir = r\"C:\\Users\\zackg\\OneDrive\\Ayaz Lab\\KernelFlow_PsychoPy\\go_no_go\\traditional_GNG\\traditional_GNG_conditions\"\n",
    "\n",
    "num_rows = 14\n",
    "\n",
    "go_stim_csv(num_rows=num_rows, save_dir=save_dir)\n",
    "time.sleep(0.1)\n",
    "GNG_stim_csv(num_rows=num_rows, save_dir=save_dir)"
   ]
  }
 ],
 "metadata": {
  "interpreter": {
   "hash": "9efce205f64ad363cd9f14615485aca38ee4ef0915866e318aa83c8d0c93f6fc"
  },
  "kernelspec": {
   "display_name": "Python 3.10.2 64-bit",
   "language": "python",
   "name": "python3"
  },
  "language_info": {
   "codemirror_mode": {
    "name": "ipython",
    "version": 3
   },
   "file_extension": ".py",
   "mimetype": "text/x-python",
   "name": "python",
   "nbconvert_exporter": "python",
   "pygments_lexer": "ipython3",
   "version": "3.9.0"
  },
  "orig_nbformat": 4
 },
 "nbformat": 4,
 "nbformat_minor": 2
}
