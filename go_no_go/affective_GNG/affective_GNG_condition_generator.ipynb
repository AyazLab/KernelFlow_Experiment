{
 "cells": [
  {
   "cell_type": "code",
   "execution_count": 3,
   "metadata": {},
   "outputs": [],
   "source": [
    "import os\n",
    "import csv\n",
    "import time\n",
    "import math\n",
    "import numpy as np\n",
    "\n",
    "def go_stims(num_rows, go_stim_dir):\n",
    "    \"\"\"\n",
    "    Randomize the list of GO images\n",
    "    \"\"\"\n",
    "\n",
    "    os.chdir(go_stim_dir)\n",
    "    go_stim_list = os.listdir(os.getcwd())\n",
    "    np.random.shuffle(go_stim_list)\n",
    "\n",
    "    return go_stim_list[:num_rows]\n",
    "\n",
    "def go_stim_csv(num_rows, save_dir, go_stim_dir):\n",
    "    \"\"\"\n",
    "    Save Go stim vectors in a CSV file\n",
    "    \"\"\"\n",
    "\n",
    "    go_stim_list = go_stims(num_rows, go_stim_dir)\n",
    "\n",
    "    os.chdir(save_dir)\n",
    "    filename = \"go_stims-\" + str(time.time()).replace(\".\", \"\") + \".csv\"\n",
    "    print(\"CSV filename: \", filename)\n",
    "\n",
    "    with open(filename, mode=\"w\", newline='') as csv_file:\n",
    "        csv_writer = csv.writer(csv_file, delimiter=',')  \n",
    "        csv_writer.writerow([\"go_stim\", \"match\"])  \n",
    "        \n",
    "        for go_stim in go_stim_list:\n",
    "            go_stim_str = os.path.join(\"affective_go_stimuli\", go_stim)\n",
    "            csv_writer.writerow([go_stim_str, \"['space']\"])  \n",
    "\n",
    "def GNG_stims(num_rows, go_stim_dir, no_go_stim_dir):\n",
    "    \"\"\"\n",
    "    Create a randomized list of 50/50 Go/No-Go images\n",
    "    \"\"\"\n",
    "\n",
    "    # Go stims\n",
    "    os.chdir(go_stim_dir)\n",
    "    go_stim_list = os.listdir(os.getcwd())\n",
    "    np.random.shuffle(go_stim_list)\n",
    "    go_stim_list = go_stim_list[:math.floor(num_rows/2)]\n",
    "\n",
    "    # No-Go stims\n",
    "    os.chdir(no_go_stim_dir)\n",
    "    no_go_stim_list = os.listdir(os.getcwd())\n",
    "    np.random.shuffle(no_go_stim_list)\n",
    "    no_go_stim_list = no_go_stim_list[:math.ceil(num_rows/2)]\n",
    "    \n",
    "    GNG_stim_list = go_stim_list + no_go_stim_list\n",
    "    np.random.shuffle(GNG_stim_list)\n",
    "\n",
    "    return GNG_stim_list\n",
    "\n",
    "def GNG_stim_csv(num_rows, save_dir, go_stim_dir, no_go_stim_dir):\n",
    "    \"\"\"\n",
    "    Save Go/No-Go stim vectors in a CSV file\n",
    "    \"\"\"\n",
    "\n",
    "    GNG_stim_list = GNG_stims(num_rows, go_stim_dir, no_go_stim_dir)\n",
    "\n",
    "    os.chdir(save_dir)\n",
    "    filename = \"GNG_stims-\" + str(time.time()).replace(\".\", \"\") + \".csv\"\n",
    "    print(\"CSV filename: \", filename)\n",
    "\n",
    "    with open(filename, mode=\"w\", newline='') as csv_file:\n",
    "        csv_writer = csv.writer(csv_file, delimiter=',')  \n",
    "        csv_writer.writerow([\"GNG_stim\", \"match\"])  \n",
    "        \n",
    "        for GNG_stim in GNG_stim_list:\n",
    "            if \"puppy\" in GNG_stim:\n",
    "                GNG_stim_str = os.path.join(\"affective_go_stimuli\", GNG_stim)\n",
    "                csv_writer.writerow([GNG_stim_str, \"['space']\"]) \n",
    "            elif \"spider\" in GNG_stim:\n",
    "                GNG_stim_str = os.path.join(\"affective_no_go_stimuli\", GNG_stim)\n",
    "                csv_writer.writerow([GNG_stim_str, \"\"]) "
   ]
  },
  {
   "cell_type": "code",
   "execution_count": 4,
   "metadata": {},
   "outputs": [
    {
     "name": "stdout",
     "output_type": "stream",
     "text": [
      "CSV filename:  go_stims-16441849413298702.csv\n",
      "CSV filename:  GNG_stims-1644184941437001.csv\n"
     ]
    }
   ],
   "source": [
    "#save_dir = input(\"Enter Go/No-Go conditions dir: \")\n",
    "save_dir = r\"C:\\Users\\zackg\\OneDrive\\Ayaz Lab\\KernelFlow_PsychoPy\\go_no_go\\affective_GNG\\affective_GNG_conditions\"\n",
    "go_stim_dir = r\"C:\\Users\\zackg\\OneDrive\\Ayaz Lab\\KernelFlow_PsychoPy\\go_no_go\\affective_GNG\\affective_go_stimuli\"\n",
    "no_go_stim_dir = r\"C:\\Users\\zackg\\OneDrive\\Ayaz Lab\\KernelFlow_PsychoPy\\go_no_go\\affective_GNG\\affective_no_go_stimuli\"\n",
    "\n",
    "num_rows = 14\n",
    "\n",
    "go_stim_csv(num_rows=num_rows, save_dir=save_dir, go_stim_dir=go_stim_dir)\n",
    "time.sleep(0.1)\n",
    "GNG_stim_csv(num_rows=num_rows, save_dir=save_dir, go_stim_dir=go_stim_dir, no_go_stim_dir=no_go_stim_dir)"
   ]
  }
 ],
 "metadata": {
  "interpreter": {
   "hash": "9efce205f64ad363cd9f14615485aca38ee4ef0915866e318aa83c8d0c93f6fc"
  },
  "kernelspec": {
   "display_name": "Python 3.10.2 64-bit",
   "language": "python",
   "name": "python3"
  },
  "language_info": {
   "codemirror_mode": {
    "name": "ipython",
    "version": 3
   },
   "file_extension": ".py",
   "mimetype": "text/x-python",
   "name": "python",
   "nbconvert_exporter": "python",
   "pygments_lexer": "ipython3",
   "version": "3.9.0"
  },
  "orig_nbformat": 4
 },
 "nbformat": 4,
 "nbformat_minor": 2
}
