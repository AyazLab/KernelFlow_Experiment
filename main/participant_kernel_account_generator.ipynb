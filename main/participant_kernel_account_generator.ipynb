{
 "cells": [
  {
   "cell_type": "code",
   "execution_count": 1,
   "metadata": {},
   "outputs": [],
   "source": [
    "import random\n",
    "import pandas as pd\n",
    "\n",
    "def create_kernel_accounts(num_participants):\n",
    "    participant_list = []\n",
    "    email_list = []\n",
    "    password_list = []\n",
    "\n",
    "    for i in range(num_participants):\n",
    "        participant_ID = f\"{(i+1):02d}\"\n",
    "        participant_list.append(f\"participant_{participant_ID}\")\n",
    "\n",
    "        rand_num = random.randrange(111111, 999999)\n",
    "\n",
    "        email = f\"participant.{participant_ID}.{rand_num}\" + \"@gmail.com\" \n",
    "        email_list.append(email)\n",
    "\n",
    "        password = f\"Participant.{participant_ID}.{rand_num}!\"\n",
    "        password_list.append(password)\n",
    "\n",
    "    accounts_df = pd.DataFrame(list(zip(participant_list, email_list, password_list)), columns=[\"Participant ID\", \"Participant Email\", \"Participant Password\"])\n",
    "    \n",
    "    filename = \"participant_kernel_accounts.xlsx\"\n",
    "    filepath = os.path.join(os.getcwd(), filename)\n",
    "\n",
    "    writer = pd.ExcelWriter(filepath)\n",
    "    accounts_df.to_excel(writer)\n",
    "    writer.save()"
   ]
  },
  {
   "cell_type": "code",
   "execution_count": 2,
   "metadata": {},
   "outputs": [],
   "source": [
    "create_kernel_accounts(num_participants=50)"
   ]
  },
  {
   "cell_type": "code",
   "execution_count": null,
   "metadata": {},
   "outputs": [],
   "source": []
  }
 ],
 "metadata": {
  "interpreter": {
   "hash": "40c2e5c495cf0805a7af6b9af036ebce8420ee546bc2fe8c0d5a9a325cfa3a2f"
  },
  "kernelspec": {
   "display_name": "Python 3.9.0 64-bit",
   "language": "python",
   "name": "python3"
  },
  "language_info": {
   "codemirror_mode": {
    "name": "ipython",
    "version": 3
   },
   "file_extension": ".py",
   "mimetype": "text/x-python",
   "name": "python",
   "nbconvert_exporter": "python",
   "pygments_lexer": "ipython3",
   "version": "3.9.0"
  },
  "orig_nbformat": 4
 },
 "nbformat": 4,
 "nbformat_minor": 2
}
