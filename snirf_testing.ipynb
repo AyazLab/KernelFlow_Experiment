{
 "cells": [
  {
   "cell_type": "code",
   "execution_count": 1,
   "metadata": {},
   "outputs": [],
   "source": [
    "from pysnirf2 import Snirf\n",
    "\n",
    "snirf = Snirf(r\"C:\\Users\\zackg\\Downloads\\Test1_T1_1c35687_3.snirf\")"
   ]
  },
  {
   "cell_type": "code",
   "execution_count": 39,
   "metadata": {},
   "outputs": [
    {
     "name": "stdout",
     "output_type": "stream",
     "text": [
      "7867464.971064811\n",
      "1690.8871043517665\n",
      "104082.20342649014\n",
      "7098893.432870367\n",
      "1839.7695637300928\n"
     ]
    }
   ],
   "source": [
    "for i in range(5):\n",
    "    print(snirf.nirs[0].data[0].dataTimeSeries[0][i])"
   ]
  },
  {
   "cell_type": "code",
   "execution_count": 37,
   "metadata": {},
   "outputs": [],
   "source": [
    "import numpy as np\n",
    "np.shape(snirf.nirs[0].data[0].dataTimeSeries)\n",
    "x = snirf.nirs[0].data[0].dataTimeSeries[:, 0:10]\n",
    "\n",
    "#snirf.nirs[0].data[0].time[1:5]"
   ]
  },
  {
   "cell_type": "code",
   "execution_count": 26,
   "metadata": {},
   "outputs": [
    {
     "data": {
      "text/plain": [
       "['__abstractmethods__',\n",
       " '__class__',\n",
       " '__contains__',\n",
       " '__delattr__',\n",
       " '__dict__',\n",
       " '__dir__',\n",
       " '__doc__',\n",
       " '__eq__',\n",
       " '__format__',\n",
       " '__ge__',\n",
       " '__getattribute__',\n",
       " '__gt__',\n",
       " '__hash__',\n",
       " '__init__',\n",
       " '__init_subclass__',\n",
       " '__le__',\n",
       " '__lt__',\n",
       " '__module__',\n",
       " '__ne__',\n",
       " '__new__',\n",
       " '__reduce__',\n",
       " '__reduce_ex__',\n",
       " '__repr__',\n",
       " '__setattr__',\n",
       " '__sizeof__',\n",
       " '__slots__',\n",
       " '__str__',\n",
       " '__subclasshook__',\n",
       " '__weakref__',\n",
       " '_abc_impl',\n",
       " '_cfg',\n",
       " '_dataTimeSeries',\n",
       " '_h',\n",
       " '_indexed_groups',\n",
       " '_location',\n",
       " '_measurementList',\n",
       " '_save',\n",
       " '_snirf_names',\n",
       " '_time',\n",
       " '_validate',\n",
       " 'dataTimeSeries',\n",
       " 'filename',\n",
       " 'is_empty',\n",
       " 'location',\n",
       " 'measurementList',\n",
       " 'save',\n",
       " 'time']"
      ]
     },
     "execution_count": 26,
     "metadata": {},
     "output_type": "execute_result"
    }
   ],
   "source": [
    "dir(snirf.nirs[0].data[0])\n"
   ]
  },
  {
   "cell_type": "code",
   "execution_count": 49,
   "metadata": {},
   "outputs": [
    {
     "name": "stdout",
     "output_type": "stream",
     "text": [
      "MetaDataTags at /nirs/metaDataTags\n",
      "FrequencyUnit: Hz\n",
      "KernelPortalVersion: 2021.12.03\n",
      "LengthUnit: mm\n",
      "MeasurementDate: 2021-10-06\n",
      "MeasurementTime: 15:59:29\n",
      "SubjectID: T1\n",
      "TimeUnit: s\n",
      "filename: C:\\Users\\zackg\\Downloads\\Test1_T1_1c35687_3.snirf\n",
      "location: /nirs/metaDataTags\n",
      "\n",
      "\n",
      "2021-10-06\n",
      "15:59:29\n"
     ]
    }
   ],
   "source": [
    "print(snirf.nirs[0].metaDataTags)\n",
    "print(\"\\n\")\n",
    "print(snirf.nirs[0].metaDataTags.MeasurementDate)\n",
    "print(snirf.nirs[0].metaDataTags.MeasurementTime)"
   ]
  },
  {
   "cell_type": "code",
   "execution_count": 58,
   "metadata": {},
   "outputs": [
    {
     "name": "stdout",
     "output_type": "stream",
     "text": [
      "[5.13952851 5.2796104  5.41969252 5.5597744  5.69985652 5.83993864\n",
      " 5.98002052 6.12010264 6.26018453 6.40026665]\n"
     ]
    }
   ],
   "source": [
    "print(snirf.nirs[0].data[0].time[0:10])"
   ]
  },
  {
   "cell_type": "code",
   "execution_count": 62,
   "metadata": {},
   "outputs": [
    {
     "data": {
      "text/plain": [
       "7.13868190745916"
      ]
     },
     "execution_count": 62,
     "metadata": {},
     "output_type": "execute_result"
    }
   ],
   "source": [
    "1/(snirf.nirs[0].data[0].time[1]-snirf.nirs[0].data[0].time[0])"
   ]
  },
  {
   "cell_type": "code",
   "execution_count": null,
   "metadata": {},
   "outputs": [],
   "source": []
  }
 ],
 "metadata": {
  "interpreter": {
   "hash": "489ee3a99ad92b8c68b70a8fb72ee1af00ad117b9a531569513919a739da67fd"
  },
  "kernelspec": {
   "display_name": "Python 3.9.0 64-bit",
   "language": "python",
   "name": "python3"
  },
  "language_info": {
   "codemirror_mode": {
    "name": "ipython",
    "version": 3
   },
   "file_extension": ".py",
   "mimetype": "text/x-python",
   "name": "python",
   "nbconvert_exporter": "python",
   "pygments_lexer": "ipython3",
   "version": "3.9.0"
  },
  "orig_nbformat": 4
 },
 "nbformat": 4,
 "nbformat_minor": 2
}
