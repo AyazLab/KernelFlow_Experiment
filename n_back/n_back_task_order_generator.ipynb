{
 "cells": [
  {
   "cell_type": "code",
   "execution_count": 6,
   "metadata": {},
   "outputs": [],
   "source": [
    "import os\n",
    "import csv\n",
    "import time\n",
    "import math\n",
    "import numpy as np\n",
    "\n",
    "def n_back_task_order():\n",
    "    \"\"\"\n",
    "    Random order of N-back tasks (task cannot repeat sequentially 3x)\n",
    "    \"\"\"\n",
    "\n",
    "    task_list = [\"zero_back1\", \"one_back1\", \"two_back1\", \"zero_back2\", \"one_back2\", \"two_back2\", \"zero_back3\", \"one_back3\", \"two_back3\"]\n",
    "\n",
    "    task_list_incorrect = True\n",
    "    list_correct = False\n",
    "\n",
    "    while task_list_incorrect and not list_correct:\n",
    "        np.random.shuffle(task_list)\n",
    "\n",
    "        for i, task in enumerate(task_list):\n",
    "            if i == 0 or i == 1: \n",
    "                pass\n",
    "            else:\n",
    "                if \"zero\" in task and \"zero\" in task_list[i-1] and \"zero\" in task_list[i-2]:\n",
    "                    break\n",
    "                elif \"one\" in task and \"one\" in task_list[i-1] and \"one\" in task_list[i-2]:\n",
    "                    break\n",
    "                elif \"two\" in task and \"two\" in task_list[i-1] and \"two\" in task_list[i-2]:\n",
    "                    break\n",
    "                else:\n",
    "                    pass\n",
    "            if i == len(task_list)-1:\n",
    "                list_correct = True\n",
    "                break\n",
    "\n",
    "    return task_list\n",
    "\n",
    "def n_back_task_order_csv(save_dir):\n",
    "    \"\"\"\n",
    "    Save vSAT stim vectors in a CSV file\n",
    "    \"\"\"\n",
    "\n",
    "    task_list = n_back_task_order()\n",
    "\n",
    "    os.chdir(save_dir)\n",
    "    filename = \"n_back_task_order-\" + str(time.time()).replace(\".\", \"\") + \".csv\"\n",
    "    print(\"CSV filename: \", filename)\n",
    "\n",
    "    with open(filename, mode=\"w\", newline='') as csv_file:\n",
    "        csv_writer = csv.writer(csv_file, delimiter=',')  \n",
    "        csv_writer.writerow([\"task_order\"])  \n",
    "        \n",
    "        for task in task_list:\n",
    "            csv_writer.writerow([task])   "
   ]
  },
  {
   "cell_type": "code",
   "execution_count": 9,
   "metadata": {},
   "outputs": [
    {
     "name": "stdout",
     "output_type": "stream",
     "text": [
      "CSV filename:  n_back_task_order-16444554805446186.csv\n"
     ]
    }
   ],
   "source": [
    "save_dir = r\"C:\\Users\\zackg\\OneDrive\\Ayaz Lab\\KernelFlow_PsychoPy\\n_back\"\n",
    "\n",
    "n_back_task_order_csv(save_dir=save_dir)"
   ]
  },
  {
   "cell_type": "code",
   "execution_count": null,
   "metadata": {},
   "outputs": [],
   "source": []
  }
 ],
 "metadata": {
  "interpreter": {
   "hash": "9efce205f64ad363cd9f14615485aca38ee4ef0915866e318aa83c8d0c93f6fc"
  },
  "kernelspec": {
   "display_name": "Python 3.10.2 64-bit",
   "language": "python",
   "name": "python3"
  },
  "language_info": {
   "codemirror_mode": {
    "name": "ipython",
    "version": 3
   },
   "file_extension": ".py",
   "mimetype": "text/x-python",
   "name": "python",
   "nbconvert_exporter": "python",
   "pygments_lexer": "ipython3",
   "version": "3.9.0"
  },
  "orig_nbformat": 4
 },
 "nbformat": 4,
 "nbformat_minor": 2
}
